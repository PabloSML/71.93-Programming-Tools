{
 "cells": [
  {
   "attachments": {},
   "cell_type": "markdown",
   "metadata": {},
   "source": [
    "# Hello World Again!"
   ]
  },
  {
   "cell_type": "code",
   "execution_count": null,
   "metadata": {},
   "outputs": [],
   "source": [
    "# This program also prints Hello, world!\n",
    "print('Hello, world!')"
   ]
  },
  {
   "attachments": {},
   "cell_type": "markdown",
   "metadata": {},
   "source": [
    "# Some Basics"
   ]
  },
  {
   "cell_type": "code",
   "execution_count": null,
   "metadata": {},
   "outputs": [],
   "source": [
    "# Variables\n",
    "name = \"Carlos\"\n",
    "age = 5\n",
    "is_student = True"
   ]
  },
  {
   "cell_type": "code",
   "execution_count": null,
   "metadata": {},
   "outputs": [],
   "source": [
    "# Output\n",
    "print(\"Hello, \" + name + \"!\")  # Concatenation of strings\n",
    "print(f\"You are {age} years old.\")  # Conversion of integer to string\n",
    "print(\"Are you a student? \" + str(is_student))  # Conversion of boolean to string"
   ]
  },
  {
   "cell_type": "code",
   "execution_count": null,
   "metadata": {},
   "outputs": [],
   "source": [
    "# Input\n",
    "city = input(\"Where do you live? \")\n",
    "print(\"You live in \" + city)"
   ]
  },
  {
   "cell_type": "code",
   "execution_count": null,
   "metadata": {},
   "outputs": [],
   "source": [
    "# Conditions\n",
    "if age >= 18:\n",
    "    print(\"You are an adult.\")\n",
    "else:\n",
    "    print(\"You are a minor.\")"
   ]
  },
  {
   "cell_type": "code",
   "execution_count": null,
   "metadata": {},
   "outputs": [],
   "source": [
    "# Loops\n",
    "for i in range(1, 10, 2):\n",
    "    print(\"Count:\", i)\n",
    "\n",
    "lista_de_alumnos = [\"Carlos\", \"Juan\", \"Pedro\"]\n",
    "\n",
    "for persona_no_recibida in lista_de_alumnos:\n",
    "    print(persona_no_recibida)"
   ]
  },
  {
   "cell_type": "code",
   "execution_count": null,
   "metadata": {},
   "outputs": [],
   "source": [
    "# Functions\n",
    "def multiply(a, b):\n",
    "    return a * b\n",
    "\n",
    "result = multiply(3, 4)\n",
    "print(\"Result:\", result)"
   ]
  },
  {
   "cell_type": "code",
   "execution_count": null,
   "metadata": {},
   "outputs": [],
   "source": [
    "# Lists\n",
    "fruits = [\"apple\", 25, \"orange\"]\n",
    "print(\"Fruits:\", fruits)\n",
    "print(\"First fruit:\", fruits[-1])"
   ]
  },
  {
   "cell_type": "code",
   "execution_count": null,
   "metadata": {},
   "outputs": [],
   "source": [
    "# Dictionaries\n",
    "person = {\n",
    "    \"name\": \"Alice\",\n",
    "    \"age\": 30,\n",
    "    \"city\": \"London\"\n",
    "}\n",
    "print(\"Person:\", person)\n",
    "print(\"Person's city:\", person[\"city\"])"
   ]
  },
  {
   "cell_type": "code",
   "execution_count": null,
   "metadata": {},
   "outputs": [],
   "source": [
    "# Classes\n",
    "class Dog:\n",
    "    def __init__(self, name):\n",
    "        self.name = name\n",
    "\n",
    "    def bark(self):\n",
    "        print(self.name + \" says woof!\")\n",
    "\n",
    "dog = Dog(\"Buddy\")\n",
    "dog.bark()"
   ]
  },
  {
   "cell_type": "code",
   "execution_count": null,
   "metadata": {},
   "outputs": [],
   "source": [
    "import numpy as np\n",
    "import matplotlib.pyplot as plt\n",
    "\n",
    "# Generate x values from 0 to 4π with a step of 0.1\n",
    "x = np.arange(0, 4*np.pi, 0.1)\n",
    "\n",
    "# Calculate sine and cosine values for each x value\n",
    "sine_values = np.sin(x)\n",
    "cosine_values = np.cos(x)\n",
    "\n",
    "# Plot the sine wave in blue\n",
    "plt.plot(x, sine_values, color='blue', label='Sine')\n",
    "\n",
    "# Plot the cosine wave in red\n",
    "plt.plot(x, cosine_values, color='red', label='Cosine')\n",
    "\n",
    "# Set plot title and labels\n",
    "plt.title('Sine and Cosine Waves')\n",
    "plt.xlabel('x')\n",
    "plt.ylabel('y')\n",
    "\n",
    "# Add a legend\n",
    "plt.legend()\n",
    "\n",
    "# Display grid\n",
    "plt.grid(True)\n",
    "\n",
    "# Apply tight layout\n",
    "plt.tight_layout()\n",
    "\n",
    "# Display the plot\n",
    "plt.show()"
   ]
  }
 ],
 "metadata": {
  "kernelspec": {
   "display_name": ".venv",
   "language": "python",
   "name": "python3"
  },
  "language_info": {
   "codemirror_mode": {
    "name": "ipython",
    "version": 3
   },
   "file_extension": ".py",
   "mimetype": "text/x-python",
   "name": "python",
   "nbconvert_exporter": "python",
   "pygments_lexer": "ipython3",
   "version": "3.12.3"
  },
  "orig_nbformat": 4
 },
 "nbformat": 4,
 "nbformat_minor": 2
}
